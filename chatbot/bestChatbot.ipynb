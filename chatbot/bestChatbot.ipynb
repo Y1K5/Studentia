{
 "cells": [
  {
   "cell_type": "code",
   "execution_count": 1,
   "id": "ce383476",
   "metadata": {},
   "outputs": [
    {
     "name": "stdout",
     "output_type": "stream",
     "text": [
      "Requirement already satisfied: simpletransformers in /opt/miniconda3/lib/python3.9/site-packages (0.63.11)\n",
      "Requirement already satisfied: numpy in /opt/miniconda3/lib/python3.9/site-packages (from simpletransformers) (1.23.5)\n",
      "Requirement already satisfied: requests in /opt/miniconda3/lib/python3.9/site-packages (from simpletransformers) (2.27.1)\n",
      "Requirement already satisfied: tqdm>=4.47.0 in /opt/miniconda3/lib/python3.9/site-packages (from simpletransformers) (4.64.0)\n",
      "Requirement already satisfied: regex in /opt/miniconda3/lib/python3.9/site-packages (from simpletransformers) (2022.9.13)\n",
      "Requirement already satisfied: transformers>=4.6.0 in /opt/miniconda3/lib/python3.9/site-packages (from simpletransformers) (4.29.1)\n",
      "Requirement already satisfied: datasets in /opt/miniconda3/lib/python3.9/site-packages (from simpletransformers) (2.12.0)\n",
      "Requirement already satisfied: scipy in /opt/miniconda3/lib/python3.9/site-packages (from simpletransformers) (1.9.1)\n",
      "Requirement already satisfied: scikit-learn in /opt/miniconda3/lib/python3.9/site-packages (from simpletransformers) (1.1.2)\n",
      "Requirement already satisfied: seqeval in /opt/miniconda3/lib/python3.9/site-packages (from simpletransformers) (1.2.2)\n",
      "Requirement already satisfied: tensorboard in /opt/miniconda3/lib/python3.9/site-packages (from simpletransformers) (2.12.1)\n",
      "Requirement already satisfied: pandas in /opt/miniconda3/lib/python3.9/site-packages (from simpletransformers) (2.0.0)\n",
      "Requirement already satisfied: tokenizers in /opt/miniconda3/lib/python3.9/site-packages (from simpletransformers) (0.13.3)\n",
      "Requirement already satisfied: wandb>=0.10.32 in /opt/miniconda3/lib/python3.9/site-packages (from simpletransformers) (0.15.2)\n",
      "Requirement already satisfied: streamlit in /opt/miniconda3/lib/python3.9/site-packages (from simpletransformers) (1.22.0)\n",
      "Requirement already satisfied: sentencepiece in /opt/miniconda3/lib/python3.9/site-packages (from simpletransformers) (0.1.99)\n",
      "Requirement already satisfied: filelock in /opt/miniconda3/lib/python3.9/site-packages (from transformers>=4.6.0->simpletransformers) (3.11.0)\n",
      "Requirement already satisfied: huggingface-hub<1.0,>=0.14.1 in /opt/miniconda3/lib/python3.9/site-packages (from transformers>=4.6.0->simpletransformers) (0.14.1)\n",
      "Requirement already satisfied: packaging>=20.0 in /opt/miniconda3/lib/python3.9/site-packages (from transformers>=4.6.0->simpletransformers) (21.3)\n",
      "Requirement already satisfied: pyyaml>=5.1 in /opt/miniconda3/lib/python3.9/site-packages (from transformers>=4.6.0->simpletransformers) (6.0)\n",
      "Requirement already satisfied: Click!=8.0.0,>=7.0 in /opt/miniconda3/lib/python3.9/site-packages (from wandb>=0.10.32->simpletransformers) (8.1.3)\n",
      "Requirement already satisfied: GitPython!=3.1.29,>=1.0.0 in /opt/miniconda3/lib/python3.9/site-packages (from wandb>=0.10.32->simpletransformers) (3.1.31)\n",
      "Requirement already satisfied: psutil>=5.0.0 in /opt/miniconda3/lib/python3.9/site-packages (from wandb>=0.10.32->simpletransformers) (5.9.0)\n",
      "Requirement already satisfied: sentry-sdk>=1.0.0 in /opt/miniconda3/lib/python3.9/site-packages (from wandb>=0.10.32->simpletransformers) (1.23.0)\n",
      "Requirement already satisfied: docker-pycreds>=0.4.0 in /opt/miniconda3/lib/python3.9/site-packages (from wandb>=0.10.32->simpletransformers) (0.4.0)\n",
      "Requirement already satisfied: pathtools in /opt/miniconda3/lib/python3.9/site-packages (from wandb>=0.10.32->simpletransformers) (0.1.2)\n",
      "Requirement already satisfied: setproctitle in /opt/miniconda3/lib/python3.9/site-packages (from wandb>=0.10.32->simpletransformers) (1.3.2)\n",
      "Requirement already satisfied: setuptools in /opt/miniconda3/lib/python3.9/site-packages (from wandb>=0.10.32->simpletransformers) (61.2.0)\n",
      "Requirement already satisfied: appdirs>=1.4.3 in /opt/miniconda3/lib/python3.9/site-packages (from wandb>=0.10.32->simpletransformers) (1.4.4)\n",
      "Requirement already satisfied: typing-extensions in /opt/miniconda3/lib/python3.9/site-packages (from wandb>=0.10.32->simpletransformers) (4.3.0)\n",
      "Requirement already satisfied: protobuf!=4.21.0,<5,>=3.19.0 in /opt/miniconda3/lib/python3.9/site-packages (from wandb>=0.10.32->simpletransformers) (3.20.3)\n",
      "Requirement already satisfied: urllib3<1.27,>=1.21.1 in /opt/miniconda3/lib/python3.9/site-packages (from requests->simpletransformers) (1.26.15)\n",
      "Requirement already satisfied: certifi>=2017.4.17 in /opt/miniconda3/lib/python3.9/site-packages (from requests->simpletransformers) (2022.9.14)\n",
      "Requirement already satisfied: charset-normalizer~=2.0.0 in /opt/miniconda3/lib/python3.9/site-packages (from requests->simpletransformers) (2.0.4)\n",
      "Requirement already satisfied: idna<4,>=2.5 in /opt/miniconda3/lib/python3.9/site-packages (from requests->simpletransformers) (3.3)\n",
      "Requirement already satisfied: pyarrow>=8.0.0 in /opt/miniconda3/lib/python3.9/site-packages (from datasets->simpletransformers) (12.0.0)\n",
      "Requirement already satisfied: dill<0.3.7,>=0.3.0 in /opt/miniconda3/lib/python3.9/site-packages (from datasets->simpletransformers) (0.3.6)\n",
      "Requirement already satisfied: xxhash in /opt/miniconda3/lib/python3.9/site-packages (from datasets->simpletransformers) (3.2.0)\n",
      "Requirement already satisfied: multiprocess in /opt/miniconda3/lib/python3.9/site-packages (from datasets->simpletransformers) (0.70.14)\n",
      "Requirement already satisfied: fsspec[http]>=2021.11.1 in /opt/miniconda3/lib/python3.9/site-packages (from datasets->simpletransformers) (2023.5.0)\n",
      "Requirement already satisfied: aiohttp in /opt/miniconda3/lib/python3.9/site-packages (from datasets->simpletransformers) (3.8.4)\n",
      "Requirement already satisfied: responses<0.19 in /opt/miniconda3/lib/python3.9/site-packages (from datasets->simpletransformers) (0.18.0)\n",
      "Requirement already satisfied: python-dateutil>=2.8.2 in /opt/miniconda3/lib/python3.9/site-packages (from pandas->simpletransformers) (2.8.2)\n",
      "Requirement already satisfied: pytz>=2020.1 in /opt/miniconda3/lib/python3.9/site-packages (from pandas->simpletransformers) (2022.1)\n",
      "Requirement already satisfied: tzdata>=2022.1 in /opt/miniconda3/lib/python3.9/site-packages (from pandas->simpletransformers) (2023.3)\n",
      "Requirement already satisfied: joblib>=1.0.0 in /opt/miniconda3/lib/python3.9/site-packages (from scikit-learn->simpletransformers) (1.2.0)\n",
      "Requirement already satisfied: threadpoolctl>=2.0.0 in /opt/miniconda3/lib/python3.9/site-packages (from scikit-learn->simpletransformers) (3.1.0)\n",
      "Requirement already satisfied: altair<5,>=3.2.0 in /opt/miniconda3/lib/python3.9/site-packages (from streamlit->simpletransformers) (4.2.2)\n",
      "Requirement already satisfied: blinker>=1.0.0 in /opt/miniconda3/lib/python3.9/site-packages (from streamlit->simpletransformers) (1.6.2)\n",
      "Requirement already satisfied: cachetools>=4.0 in /opt/miniconda3/lib/python3.9/site-packages (from streamlit->simpletransformers) (5.3.0)\n",
      "Requirement already satisfied: importlib-metadata>=1.4 in /opt/miniconda3/lib/python3.9/site-packages (from streamlit->simpletransformers) (5.0.0)\n",
      "Requirement already satisfied: pillow>=6.2.0 in /opt/miniconda3/lib/python3.9/site-packages (from streamlit->simpletransformers) (9.2.0)\n",
      "Requirement already satisfied: pympler>=0.9 in /opt/miniconda3/lib/python3.9/site-packages (from streamlit->simpletransformers) (1.0.1)\n",
      "Requirement already satisfied: rich>=10.11.0 in /opt/miniconda3/lib/python3.9/site-packages (from streamlit->simpletransformers) (13.3.5)\n",
      "Requirement already satisfied: tenacity<9,>=8.0.0 in /opt/miniconda3/lib/python3.9/site-packages (from streamlit->simpletransformers) (8.2.2)\n",
      "Requirement already satisfied: toml in /opt/miniconda3/lib/python3.9/site-packages (from streamlit->simpletransformers) (0.10.2)\n",
      "Requirement already satisfied: tzlocal>=1.1 in /opt/miniconda3/lib/python3.9/site-packages (from streamlit->simpletransformers) (5.0.1)\n",
      "Requirement already satisfied: validators>=0.2 in /opt/miniconda3/lib/python3.9/site-packages (from streamlit->simpletransformers) (0.20.0)\n",
      "Requirement already satisfied: pydeck>=0.1.dev5 in /opt/miniconda3/lib/python3.9/site-packages (from streamlit->simpletransformers) (0.8.1b0)\n",
      "Requirement already satisfied: tornado>=6.0.3 in /opt/miniconda3/lib/python3.9/site-packages (from streamlit->simpletransformers) (6.2)\n",
      "Requirement already satisfied: absl-py>=0.4 in /opt/miniconda3/lib/python3.9/site-packages (from tensorboard->simpletransformers) (1.4.0)\n",
      "Requirement already satisfied: grpcio>=1.48.2 in /opt/miniconda3/lib/python3.9/site-packages (from tensorboard->simpletransformers) (1.53.0)\n",
      "Requirement already satisfied: google-auth<3,>=1.6.3 in /opt/miniconda3/lib/python3.9/site-packages (from tensorboard->simpletransformers) (2.17.3)\n",
      "Requirement already satisfied: google-auth-oauthlib<1.1,>=0.5 in /opt/miniconda3/lib/python3.9/site-packages (from tensorboard->simpletransformers) (1.0.0)\n",
      "Requirement already satisfied: markdown>=2.6.8 in /opt/miniconda3/lib/python3.9/site-packages (from tensorboard->simpletransformers) (3.4.3)\n",
      "Requirement already satisfied: tensorboard-data-server<0.8.0,>=0.7.0 in /opt/miniconda3/lib/python3.9/site-packages (from tensorboard->simpletransformers) (0.7.0)\n",
      "Requirement already satisfied: tensorboard-plugin-wit>=1.6.0 in /opt/miniconda3/lib/python3.9/site-packages (from tensorboard->simpletransformers) (1.8.1)\n",
      "Requirement already satisfied: werkzeug>=1.0.1 in /opt/miniconda3/lib/python3.9/site-packages (from tensorboard->simpletransformers) (2.2.2)\n",
      "Requirement already satisfied: wheel>=0.26 in /opt/miniconda3/lib/python3.9/site-packages (from tensorboard->simpletransformers) (0.37.1)\n",
      "Requirement already satisfied: entrypoints in /opt/miniconda3/lib/python3.9/site-packages (from altair<5,>=3.2.0->streamlit->simpletransformers) (0.4)\n",
      "Requirement already satisfied: jinja2 in /opt/miniconda3/lib/python3.9/site-packages (from altair<5,>=3.2.0->streamlit->simpletransformers) (3.0.3)\n",
      "Requirement already satisfied: jsonschema>=3.0 in /opt/miniconda3/lib/python3.9/site-packages (from altair<5,>=3.2.0->streamlit->simpletransformers) (4.4.0)\n",
      "Requirement already satisfied: toolz in /opt/miniconda3/lib/python3.9/site-packages (from altair<5,>=3.2.0->streamlit->simpletransformers) (0.11.2)\n"
     ]
    },
    {
     "name": "stdout",
     "output_type": "stream",
     "text": [
      "Requirement already satisfied: six>=1.4.0 in /opt/miniconda3/lib/python3.9/site-packages (from docker-pycreds>=0.4.0->wandb>=0.10.32->simpletransformers) (1.16.0)\n",
      "Requirement already satisfied: attrs>=17.3.0 in /opt/miniconda3/lib/python3.9/site-packages (from aiohttp->datasets->simpletransformers) (21.4.0)\n",
      "Requirement already satisfied: multidict<7.0,>=4.5 in /opt/miniconda3/lib/python3.9/site-packages (from aiohttp->datasets->simpletransformers) (6.0.4)\n",
      "Requirement already satisfied: async-timeout<5.0,>=4.0.0a3 in /opt/miniconda3/lib/python3.9/site-packages (from aiohttp->datasets->simpletransformers) (4.0.2)\n",
      "Requirement already satisfied: yarl<2.0,>=1.0 in /opt/miniconda3/lib/python3.9/site-packages (from aiohttp->datasets->simpletransformers) (1.9.2)\n",
      "Requirement already satisfied: frozenlist>=1.1.1 in /opt/miniconda3/lib/python3.9/site-packages (from aiohttp->datasets->simpletransformers) (1.3.3)\n",
      "Requirement already satisfied: aiosignal>=1.1.2 in /opt/miniconda3/lib/python3.9/site-packages (from aiohttp->datasets->simpletransformers) (1.3.1)\n",
      "Requirement already satisfied: gitdb<5,>=4.0.1 in /opt/miniconda3/lib/python3.9/site-packages (from GitPython!=3.1.29,>=1.0.0->wandb>=0.10.32->simpletransformers) (4.0.10)\n",
      "Requirement already satisfied: pyasn1-modules>=0.2.1 in /opt/miniconda3/lib/python3.9/site-packages (from google-auth<3,>=1.6.3->tensorboard->simpletransformers) (0.2.8)\n",
      "Requirement already satisfied: rsa<5,>=3.1.4 in /opt/miniconda3/lib/python3.9/site-packages (from google-auth<3,>=1.6.3->tensorboard->simpletransformers) (4.9)\n",
      "Requirement already satisfied: requests-oauthlib>=0.7.0 in /opt/miniconda3/lib/python3.9/site-packages (from google-auth-oauthlib<1.1,>=0.5->tensorboard->simpletransformers) (1.3.1)\n",
      "Requirement already satisfied: zipp>=0.5 in /opt/miniconda3/lib/python3.9/site-packages (from importlib-metadata>=1.4->streamlit->simpletransformers) (3.10.0)\n",
      "Requirement already satisfied: pyparsing!=3.0.5,>=2.0.2 in /opt/miniconda3/lib/python3.9/site-packages (from packaging>=20.0->transformers>=4.6.0->simpletransformers) (3.0.9)\n",
      "Requirement already satisfied: markdown-it-py<3.0.0,>=2.2.0 in /opt/miniconda3/lib/python3.9/site-packages (from rich>=10.11.0->streamlit->simpletransformers) (2.2.0)\n",
      "Requirement already satisfied: pygments<3.0.0,>=2.13.0 in /opt/miniconda3/lib/python3.9/site-packages (from rich>=10.11.0->streamlit->simpletransformers) (2.15.1)\n",
      "Requirement already satisfied: decorator>=3.4.0 in /opt/miniconda3/lib/python3.9/site-packages (from validators>=0.2->streamlit->simpletransformers) (5.1.1)\n",
      "Requirement already satisfied: MarkupSafe>=2.1.1 in /opt/miniconda3/lib/python3.9/site-packages (from werkzeug>=1.0.1->tensorboard->simpletransformers) (2.1.1)\n",
      "Requirement already satisfied: smmap<6,>=3.0.1 in /opt/miniconda3/lib/python3.9/site-packages (from gitdb<5,>=4.0.1->GitPython!=3.1.29,>=1.0.0->wandb>=0.10.32->simpletransformers) (5.0.0)\n",
      "Requirement already satisfied: pyrsistent!=0.17.0,!=0.17.1,!=0.17.2,>=0.14.0 in /opt/miniconda3/lib/python3.9/site-packages (from jsonschema>=3.0->altair<5,>=3.2.0->streamlit->simpletransformers) (0.18.0)\n",
      "Requirement already satisfied: mdurl~=0.1 in /opt/miniconda3/lib/python3.9/site-packages (from markdown-it-py<3.0.0,>=2.2.0->rich>=10.11.0->streamlit->simpletransformers) (0.1.2)\n",
      "Requirement already satisfied: pyasn1<0.5.0,>=0.4.6 in /opt/miniconda3/lib/python3.9/site-packages (from pyasn1-modules>=0.2.1->google-auth<3,>=1.6.3->tensorboard->simpletransformers) (0.4.8)\n",
      "Requirement already satisfied: oauthlib>=3.0.0 in /opt/miniconda3/lib/python3.9/site-packages (from requests-oauthlib>=0.7.0->google-auth-oauthlib<1.1,>=0.5->tensorboard->simpletransformers) (3.2.2)\n"
     ]
    }
   ],
   "source": [
    "!pip install simpletransformers"
   ]
  },
  {
   "cell_type": "code",
   "execution_count": 3,
   "id": "0f7a1ddf",
   "metadata": {},
   "outputs": [],
   "source": [
    "train_data = [\n",
    "    {\n",
    "        \"context\": \"As Korea's first hospital exclusively for women, it laid the groundwork for Ewha's Colleges of Nursing and Medicine, which became the current Ewha Womans University Medical Center\",\n",
    "        \"qas\": [\n",
    "            {\n",
    "                \"id\": 1,\n",
    "                \"question\": \"What is the name of Ewha's hospital?\",\n",
    "                \"answers\": [\n",
    "                    {\n",
    "                        \"text\": \"Ewha Womans University Medical Center\",\n",
    "                        \"answer_start\": 142\n",
    "                    }\n",
    "                ]\n",
    "            }, \n",
    "            {\n",
    "                \"id\": 2,\n",
    "                \"question\": \"What is Ewha's hospital called?\",\n",
    "                \"answers\": [\n",
    "                    {\n",
    "                        \"text\": \"Ewha Womans University Medical Center\",\n",
    "                        \"answer_start\": 142\n",
    "                    }\n",
    "                ]\n",
    "            },\n",
    "            {\n",
    "                \"id\": 3,\n",
    "                \"question\": \"Why is Ewha's hospital historically important?\",\n",
    "                \"answers\": [\n",
    "                    {\n",
    "                        \"text\": \"it laid the groundwork for Ewha's Colleges of Nursing and Medicine, which became the current Ewha Womans University Medical Center\",\n",
    "                        \"answer_start\": 49\n",
    "                    }\n",
    "                ]\n",
    "            },\n",
    "            {\n",
    "                \"id\": 4,\n",
    "                \"question\": \"What is the significance of Korea's first hospital exclusively for women?\",\n",
    "                \"answers\": [\n",
    "                    {\n",
    "                    \"text\": \"it laid the groundwork for Ewha's Colleges of Nursing and Medicine, which became the current Ewha Womans University Medical Center\",\n",
    "                    \"answer_start\": 49\n",
    "                    }\n",
    "                ]\n",
    "            },\n",
    "            {\n",
    "                \"id\": 5,\n",
    "                \"question\": \"Which university is associated with the first hospital exclusively for women in Korea?\",\n",
    "                \"answers\": [\n",
    "                    {\n",
    "                    \"text\": \"Ewha Womans University\",\n",
    "                    \"answer_start\": 142\n",
    "                    }\n",
    "                ]\n",
    "            },\n",
    "            {\n",
    "                \"id\": 6,\n",
    "                \"question\": \"What is the current name of the medical center that originated from Korea's first hospital exclusively for women?\",\n",
    "                \"answers\": [\n",
    "                    {\n",
    "                    \"text\": \"Ewha Womans University Medical Center\",\n",
    "                    \"answer_start\": 142\n",
    "                    }\n",
    "                ]\n",
    "            },\n",
    "            {\n",
    "                \"id\": 7,\n",
    "                \"question\": \"What are the colleges that were established as a result of the first hospital exclusively for women in Korea?\",\n",
    "                \"answers\": [\n",
    "                    {\n",
    "                    \"text\": \"Ewha's Colleges of Nursing and Medicine\",\n",
    "                    \"answer_start\": 76\n",
    "                    }\n",
    "                ]\n",
    "            },\n",
    "            {\n",
    "                \"id\": 8,\n",
    "                \"question\": \"What is the historical significance of Ewha's hospital in Korea?\",\n",
    "                \"answers\": [\n",
    "                    {\n",
    "                    \"text\": \"it laid the groundwork for Ewha's Colleges of Nursing and Medicine, which became the current Ewha Womans University Medical Center\",\n",
    "                    \"answer_start\": 49\n",
    "                    }\n",
    "                ]\n",
    "            },\n",
    "            {\n",
    "                \"id\": 9,\n",
    "                \"question\": \"Why is Ewha's hospital historically significant?\",\n",
    "                \"answers\": [\n",
    "                    {\n",
    "                    \"text\": \"it laid the groundwork for Ewha's Colleges of Nursing and Medicine, which became the current Ewha Womans University Medical Center\",\n",
    "                    \"answer_start\": 49\n",
    "                    }\n",
    "                ]\n",
    "            },\n",
    "            {\n",
    "                \"id\": 10,\n",
    "                \"question\": \"What is the name of the hospital affiliated with Ewha Womans University?\",\n",
    "                \"answers\": [\n",
    "                    {\n",
    "                        \"text\": \"Ewha Womans University Medical Center\",\n",
    "                        \"answer_start\": 142\n",
    "                    }\n",
    "                ]\n",
    "            },\n",
    "                     {\n",
    "                \"id\": 11,\n",
    "                \"question\": \"Which institution was established based on Korea's first hospital exclusively for women?\",\n",
    "                \"answers\": [\n",
    "                    {\n",
    "                        \"text\": \"Ewha's Colleges of Nursing and Medicine\",\n",
    "                        \"answer_start\": 76\n",
    "                    }\n",
    "                ]\n",
    "            },\n",
    "            {\n",
    "                \"id\": 12,\n",
    "                \"question\": \"What role did Ewha's hospital play in advancing women's healthcare in Korea?\",\n",
    "                \"answers\": [\n",
    "                    {\n",
    "                        \"text\": \"it laid the groundwork for Ewha's Colleges of Nursing and Medicine, which became the current Ewha Womans University Medical Center\",\n",
    "                        \"answer_start\": 49\n",
    "                    }\n",
    "                ]\n",
    "            },\n",
    "            {\n",
    "                \"id\": 13,\n",
    "                \"question\": \"What is the historical significance of Ewha's hospital?\",\n",
    "                \"answers\": [\n",
    "                    {\n",
    "                        \"text\": \"it laid the groundwork for Ewha's Colleges of Nursing and Medicine, which became the current Ewha Womans University Medical Center\",\n",
    "                        \"answer_start\": 49\n",
    "                    }\n",
    "                ]\n",
    "            },\n",
    "            {\n",
    "                \"id\": 14,\n",
    "                \"question\": \"What contributions did Ewha's hospital make to history?\",\n",
    "                \"answers\": [\n",
    "                    {\n",
    "                        \"text\": \"it laid the groundwork for Ewha's Colleges of Nursing and Medicine, which became the current Ewha Womans University Medical Center\",\n",
    "                        \"answer_start\": 49\n",
    "                    }\n",
    "                ]\n",
    "            },\n",
    "            {\n",
    "                \"id\": 15,\n",
    "                \"question\": \"Why is Ewha's hospital of historical importance?\",\n",
    "                \"answers\": [\n",
    "                    {\n",
    "                        \"text\": \"it laid the groundwork for Ewha's Colleges of Nursing and Medicine, which became the current Ewha Womans University Medical Center\",\n",
    "                        \"answer_start\": 49\n",
    "                    }\n",
    "                ]\n",
    "            },\n",
    "            {\n",
    "                \"id\": 16,\n",
    "                \"question\": \"What impact did Ewha's hospital have on history?\",\n",
    "                \"answers\": [\n",
    "                    {\n",
    "                        \"text\": \"it laid the groundwork for Ewha's Colleges of Nursing and Medicine, which became the current Ewha Womans University Medical Center\",\n",
    "                        \"answer_start\": 49\n",
    "                    }\n",
    "                ]\n",
    "            },\n",
    "            {\n",
    "                \"id\": 17,\n",
    "                \"question\": \"How did Ewha's hospital shape history?\",\n",
    "                \"answers\": [\n",
    "                    {\n",
    "                        \"text\": \"it laid the groundwork for Ewha's Colleges of Nursing and Medicine, which became the current Ewha Womans University Medical Center\",\n",
    "                        \"answer_start\": 49\n",
    "                    }\n",
    "                ]\n",
    "            },\n",
    "            {\n",
    "                \"id\": 18,\n",
    "                \"question\": \"What is the historical value of Ewha's hospital?\",\n",
    "                \"answers\": [\n",
    "                    {\n",
    "                        \"text\": \"it laid the groundwork for Ewha's Colleges of Nursing and Medicine, which became the current Ewha Womans University Medical Center\",\n",
    "                        \"answer_start\": 49\n",
    "                    }\n",
    "                ]\n",
    "            },\n",
    "            {\n",
    "                \"id\": 19,\n",
    "                \"question\": \"How does Ewha's hospital contribute to the historical narrative?\",\n",
    "                \"answers\": [\n",
    "                    {\n",
    "                        \"text\": \"it laid the groundwork for Ewha's Colleges of Nursing and Medicine, which became the current Ewha Womans University Medical Center\",\n",
    "                        \"answer_start\": 49\n",
    "                    }\n",
    "                ]\n",
    "            },\n",
    "            {\n",
    "                \"id\": 20,\n",
    "                \"question\": \"What role did Ewha's hospital play in shaping history?\",\n",
    "                \"answers\": [\n",
    "                    {\n",
    "                        \"text\": \"it laid the groundwork for Ewha's Colleges of Nursing and Medicine, which became the current Ewha Womans University Medical Center\",\n",
    "                        \"answer_start\": 49\n",
    "                    }\n",
    "                ]\n",
    "            },\n",
    "            {\n",
    "                \"id\": 21,\n",
    "                \"question\": \"What is the official designation of Ewha's hospital?\",\n",
    "                \"answers\": [\n",
    "                    {\n",
    "                        \"text\": \"Ewha Womans University Medical Center\",\n",
    "                        \"answer_start\": 142\n",
    "                    }\n",
    "                ]\n",
    "            },\n",
    "            {\n",
    "                \"id\": 22,\n",
    "                \"question\": \"What is the designated name for Ewha's hospital?\",\n",
    "                \"answers\": [\n",
    "                    {\n",
    "                        \"text\": \"Ewha Womans University Medical Center\",\n",
    "                        \"answer_start\": 142\n",
    "                    }\n",
    "                ]\n",
    "            },\n",
    "            {\n",
    "                \"id\": 23,\n",
    "                \"question\": \"What is the specific title of Ewha's hospital?\",\n",
    "                \"answers\": [\n",
    "                    {\n",
    "                        \"text\": \"Ewha Womans University Medical Center\",\n",
    "                        \"answer_start\": 142\n",
    "                    }\n",
    "                ]\n",
    "            },\n",
    "            {\n",
    "                \"id\": 24,\n",
    "                \"question\": \"How is Ewha's hospital officially referred to?\",\n",
    "                \"answers\": [\n",
    "                    {\n",
    "                        \"text\": \"Ewha Womans University Medical Center\",\n",
    "                        \"answer_start\": 142\n",
    "                    }\n",
    "                ]\n",
    "            },\n",
    "            {\n",
    "                \"id\": 25,\n",
    "                \"question\": \"By what name is Ewha's hospital known officially?\",\n",
    "                \"answers\": [\n",
    "                    {\n",
    "                        \"text\": \"Ewha Womans University Medical Center\",\n",
    "                        \"answer_start\": 142\n",
    "                    }\n",
    "                ]\n",
    "            },\n",
    "            {\n",
    "                \"id\": 26,\n",
    "                \"question\": \"What is the specific designation given to Ewha's hospital?\",\n",
    "                \"answers\": [\n",
    "                    {\n",
    "                        \"text\": \"Ewha Womans University Medical Center\",\n",
    "                        \"answer_start\": 142\n",
    "                    }\n",
    "                ]\n",
    "            },\n",
    "            {\n",
    "                \"id\": 27,\n",
    "                \"question\": \"What is the formal name used for Ewha's hospital?\",\n",
    "                \"answers\": [\n",
    "                    {\n",
    "                        \"text\": \"Ewha Womans University Medical Center\",\n",
    "                        \"answer_start\": 142\n",
    "                    }\n",
    "                ]\n",
    "            },\n",
    "            {\n",
    "                \"id\": 28,\n",
    "                \"question\": \"How is Ewha's hospital officially designated?\",\n",
    "                \"answers\": [\n",
    "                    {\n",
    "                        \"text\": \"Ewha Womans University Medical Center\",\n",
    "                        \"answer_start\": 142\n",
    "                    }\n",
    "                ]\n",
    "            },\n",
    "            {\n",
    "                \"id\": 29,\n",
    "                \"question\": \"What is the recognized title for Ewha's hospital?\",\n",
    "                \"answers\": [\n",
    "                    {\n",
    "                        \"text\": \"Ewha Womans University Medical Center\",\n",
    "                        \"answer_start\": 142\n",
    "                    }\n",
    "                ]\n",
    "            },\n",
    "            {\n",
    "                \"id\": 30,\n",
    "                \"question\": \"What is the commonly used name for Ewha's hospital?\",\n",
    "                \"answers\": [\n",
    "                    {\n",
    "                        \"text\": \"Ewha Womans University Medical Center\",\n",
    "                        \"answer_start\": 142\n",
    "                    }\n",
    "                ]\n",
    "            },\n",
    "            {\n",
    "                \"id\": 31,\n",
    "                \"question\": \"By what designation is Ewha's hospital commonly referred to?\",\n",
    "                \"answers\": [\n",
    "                    {\n",
    "                        \"text\": \"Ewha Womans University Medical Center\",\n",
    "                        \"answer_start\": 142\n",
    "                    }\n",
    "                ]\n",
    "            },\n",
    "            {\n",
    "                \"id\": 32,\n",
    "                \"question\": \"Ewha's hospital name?\",\n",
    "                \"answers\": [\n",
    "                    {\n",
    "                        \"text\": \"Ewha Womans University Medical Center\",\n",
    "                        \"answer_start\": 142\n",
    "                    }\n",
    "                ]\n",
    "            },\n",
    "            {\n",
    "                \"id\": 33,\n",
    "                \"question\": \"Ewha hospital name\",\n",
    "                \"answers\": [\n",
    "                    {\n",
    "                        \"text\": \"Ewha Womans University Medical Center\",\n",
    "                        \"answer_start\": 142\n",
    "                    }\n",
    "                ]\n",
    "            },\n",
    "            {\n",
    "                \"id\": 34,\n",
    "                \"question\": \"A cool fact about Ewha's hospital?\",\n",
    "                \"answers\": [\n",
    "                    {\n",
    "                        \"text\": \"As Korea's first hospital exclusively for women, it laid the groundwork for Ewha's Colleges of Nursing and Medicine, which became the current Ewha Womans University Medical Center\",\n",
    "                        \"answer_start\": 0\n",
    "                    }\n",
    "                ]\n",
    "            },\n",
    "            {\n",
    "                \"id\": 35,\n",
    "                \"question\": \"Ewha hospital importance?\",\n",
    "                \"answers\": [\n",
    "                    {\n",
    "                        \"text\": \"it laid the groundwork for Ewha's Colleges of Nursing and Medicine, which became the current Ewha Womans University Medical Center\",\n",
    "                        \"answer_start\": 49\n",
    "                    }\n",
    "                ]\n",
    "            },\n",
    "            {\n",
    "                \"id\": 36,\n",
    "                \"question\": \"Why is Ewha's Hospital important?\",\n",
    "                \"answers\": [\n",
    "                    {\n",
    "                        \"text\": \"it laid the groundwork for Ewha's Colleges of Nursing and Medicine, which became the current Ewha Womans University Medical Center\",\n",
    "                        \"answer_start\": 49\n",
    "                    }\n",
    "                ]\n",
    "            },\n",
    "            {\n",
    "                \"id\": 37,\n",
    "                \"question\": \"importance of Ewha's Hospital?\",\n",
    "                \"answers\": [\n",
    "                    {\n",
    "                        \"text\": \"it laid the groundwork for Ewha's Colleges of Nursing and Medicine, which became the current Ewha Womans University Medical Center\",\n",
    "                        \"answer_start\": 49\n",
    "                    }\n",
    "                ]\n",
    "            },\n",
    "            {\n",
    "                \"id\": 38,\n",
    "                \"question\": \"Which gender was Ewha's hospital exclusive for?\",\n",
    "                \"answers\": [\n",
    "                    {\n",
    "                        \"text\": \"women\",\n",
    "                        \"answer_start\": 42\n",
    "                    }\n",
    "                ]\n",
    "            }, \n",
    "            {\n",
    "                \"id\": 39,\n",
    "                \"question\": \"What is Korea's first hospital exclusively for women?\",\n",
    "                \"answers\": [\n",
    "                    {\n",
    "                        \"text\": \"Ewha Womans University Medical Center\",\n",
    "                        \"answer_start\": 142\n",
    "                    }\n",
    "                ]\n",
    "            },\n",
    "        ]\n",
    "    },\n",
    "]"
   ]
  },
  {
   "cell_type": "code",
   "execution_count": 4,
   "id": "c21ea2ff",
   "metadata": {},
   "outputs": [],
   "source": [
    "test_data = [\n",
    "    {\n",
    "        \"context\": \"Ewha campus moved to Sinchon in 1935. The new campus in Sinchon marked Ewha College's first step toward becoming a world-class university.\",\n",
    "        \"qas\": [\n",
    "            {\n",
    "                \"id\": 1,\n",
    "                \"question\": \"When did the Ewha campus move to Sinchon?\",\n",
    "                \"answers\": [\n",
    "                    {\n",
    "                        \"text\": \"1935\",\n",
    "                        \"answer_start\": 31\n",
    "                    }\n",
    "                ]\n",
    "            }, \n",
    "            {\n",
    "                \"id\": 2,\n",
    "                \"question\": \"Where did the Ewha campus move in 1935?\",\n",
    "                \"answers\": [\n",
    "                    {\n",
    "                        \"text\": \"Sinchon\",\n",
    "                        \"answer_start\": 21\n",
    "                    }\n",
    "                ]\n",
    "            },\n",
    "            {\n",
    "                \"id\": 3,\n",
    "                \"question\": \"What did the new campus in Sinchon signify for Ewha College?\",\n",
    "                \"answers\": [\n",
    "                    {\n",
    "                        \"text\": \"Ewha College's first step toward becoming a world-class university.\",\n",
    "                        \"answer_start\": 71\n",
    "                    }\n",
    "                ]\n",
    "            },\n",
    "            {\n",
    "                \"id\": 4,\n",
    "                \"question\": \"What year marked Ewha College's transition to the Sinchon campus?\",\n",
    "                \"answers\": [\n",
    "                    {\n",
    "                        \"text\": \"1935\",\n",
    "                        \"answer_start\": 31\n",
    "                    }\n",
    "                ]\n",
    "            },\n",
    "            {\n",
    "                \"id\": 5,\n",
    "                \"question\": \"What was the significance of the move to Sinchon for Ewha College?\",\n",
    "                \"answers\": [\n",
    "                    {\n",
    "                        \"text\": \"The new campus in Sinchon marked Ewha College's first step toward becoming a world-class university.\",\n",
    "                        \"answer_start\": 37\n",
    "                    }\n",
    "                ]\n",
    "            },\n",
    "            {\n",
    "                \"id\": 6,\n",
    "                \"question\": \"When did Ewha College make its transition to Sinchon?\",\n",
    "                \"answers\": [\n",
    "                    {\n",
    "                        \"text\": \"1935\",\n",
    "                        \"answer_start\": 31\n",
    "                    }\n",
    "                ]\n",
    "            },\n",
    "            {\n",
    "                \"id\": 7,\n",
    "                \"question\": \"Ewha campus move to Sinchon date\",\n",
    "                \"answers\": [\n",
    "                    {\n",
    "                        \"text\": \"1935\",\n",
    "                        \"answer_start\": 31\n",
    "                    }\n",
    "                ]\n",
    "            },\n",
    "            {\n",
    "                \"id\": 8,\n",
    "                \"question\": \"When did Ewha move to Sinchon?\",\n",
    "                \"answers\": [\n",
    "                    {\n",
    "                        \"text\": \"1935\",\n",
    "                        \"answer_start\": 31\n",
    "                    }\n",
    "                ]\n",
    "            },\n",
    "            {\n",
    "                \"id\": 9,\n",
    "                \"question\": \"What is the date when Ewha moved to Sinchon?\",\n",
    "                \"answers\": [\n",
    "                    {\n",
    "                        \"text\": \"1935\",\n",
    "                        \"answer_start\": 31\n",
    "                    }\n",
    "                ]\n",
    "            },\n",
    "        ]\n",
    "    }\n",
    "]\n",
    "      "
   ]
  },
  {
   "cell_type": "code",
   "execution_count": 2,
   "id": "036aa6cd",
   "metadata": {},
   "outputs": [
    {
     "ename": "FileNotFoundError",
     "evalue": "File train_data.json does not exist",
     "output_type": "error",
     "traceback": [
      "\u001b[0;31m---------------------------------------------------------------------------\u001b[0m",
      "\u001b[0;31mFileNotFoundError\u001b[0m                         Traceback (most recent call last)",
      "Input \u001b[0;32mIn [2]\u001b[0m, in \u001b[0;36m<cell line: 3>\u001b[0;34m()\u001b[0m\n\u001b[1;32m      1\u001b[0m \u001b[38;5;28;01mimport\u001b[39;00m \u001b[38;5;21;01mpandas\u001b[39;00m \u001b[38;5;28;01mas\u001b[39;00m \u001b[38;5;21;01mpd\u001b[39;00m\n\u001b[0;32m----> 3\u001b[0m train_data \u001b[38;5;241m=\u001b[39m \u001b[43mpd\u001b[49m\u001b[38;5;241;43m.\u001b[39;49m\u001b[43mread_json\u001b[49m\u001b[43m(\u001b[49m\u001b[38;5;124;43m\"\u001b[39;49m\u001b[38;5;124;43mtrain_data.json\u001b[39;49m\u001b[38;5;124;43m\"\u001b[39;49m\u001b[43m)\u001b[49m\n",
      "File \u001b[0;32m/opt/miniconda3/lib/python3.9/site-packages/pandas/io/json/_json.py:760\u001b[0m, in \u001b[0;36mread_json\u001b[0;34m(path_or_buf, orient, typ, dtype, convert_axes, convert_dates, keep_default_dates, precise_float, date_unit, encoding, encoding_errors, lines, chunksize, compression, nrows, storage_options, dtype_backend, engine)\u001b[0m\n\u001b[1;32m    757\u001b[0m \u001b[38;5;28;01mif\u001b[39;00m convert_axes \u001b[38;5;129;01mis\u001b[39;00m \u001b[38;5;28;01mNone\u001b[39;00m \u001b[38;5;129;01mand\u001b[39;00m orient \u001b[38;5;241m!=\u001b[39m \u001b[38;5;124m\"\u001b[39m\u001b[38;5;124mtable\u001b[39m\u001b[38;5;124m\"\u001b[39m:\n\u001b[1;32m    758\u001b[0m     convert_axes \u001b[38;5;241m=\u001b[39m \u001b[38;5;28;01mTrue\u001b[39;00m\n\u001b[0;32m--> 760\u001b[0m json_reader \u001b[38;5;241m=\u001b[39m \u001b[43mJsonReader\u001b[49m\u001b[43m(\u001b[49m\n\u001b[1;32m    761\u001b[0m \u001b[43m    \u001b[49m\u001b[43mpath_or_buf\u001b[49m\u001b[43m,\u001b[49m\n\u001b[1;32m    762\u001b[0m \u001b[43m    \u001b[49m\u001b[43morient\u001b[49m\u001b[38;5;241;43m=\u001b[39;49m\u001b[43morient\u001b[49m\u001b[43m,\u001b[49m\n\u001b[1;32m    763\u001b[0m \u001b[43m    \u001b[49m\u001b[43mtyp\u001b[49m\u001b[38;5;241;43m=\u001b[39;49m\u001b[43mtyp\u001b[49m\u001b[43m,\u001b[49m\n\u001b[1;32m    764\u001b[0m \u001b[43m    \u001b[49m\u001b[43mdtype\u001b[49m\u001b[38;5;241;43m=\u001b[39;49m\u001b[43mdtype\u001b[49m\u001b[43m,\u001b[49m\n\u001b[1;32m    765\u001b[0m \u001b[43m    \u001b[49m\u001b[43mconvert_axes\u001b[49m\u001b[38;5;241;43m=\u001b[39;49m\u001b[43mconvert_axes\u001b[49m\u001b[43m,\u001b[49m\n\u001b[1;32m    766\u001b[0m \u001b[43m    \u001b[49m\u001b[43mconvert_dates\u001b[49m\u001b[38;5;241;43m=\u001b[39;49m\u001b[43mconvert_dates\u001b[49m\u001b[43m,\u001b[49m\n\u001b[1;32m    767\u001b[0m \u001b[43m    \u001b[49m\u001b[43mkeep_default_dates\u001b[49m\u001b[38;5;241;43m=\u001b[39;49m\u001b[43mkeep_default_dates\u001b[49m\u001b[43m,\u001b[49m\n\u001b[1;32m    768\u001b[0m \u001b[43m    \u001b[49m\u001b[43mprecise_float\u001b[49m\u001b[38;5;241;43m=\u001b[39;49m\u001b[43mprecise_float\u001b[49m\u001b[43m,\u001b[49m\n\u001b[1;32m    769\u001b[0m \u001b[43m    \u001b[49m\u001b[43mdate_unit\u001b[49m\u001b[38;5;241;43m=\u001b[39;49m\u001b[43mdate_unit\u001b[49m\u001b[43m,\u001b[49m\n\u001b[1;32m    770\u001b[0m \u001b[43m    \u001b[49m\u001b[43mencoding\u001b[49m\u001b[38;5;241;43m=\u001b[39;49m\u001b[43mencoding\u001b[49m\u001b[43m,\u001b[49m\n\u001b[1;32m    771\u001b[0m \u001b[43m    \u001b[49m\u001b[43mlines\u001b[49m\u001b[38;5;241;43m=\u001b[39;49m\u001b[43mlines\u001b[49m\u001b[43m,\u001b[49m\n\u001b[1;32m    772\u001b[0m \u001b[43m    \u001b[49m\u001b[43mchunksize\u001b[49m\u001b[38;5;241;43m=\u001b[39;49m\u001b[43mchunksize\u001b[49m\u001b[43m,\u001b[49m\n\u001b[1;32m    773\u001b[0m \u001b[43m    \u001b[49m\u001b[43mcompression\u001b[49m\u001b[38;5;241;43m=\u001b[39;49m\u001b[43mcompression\u001b[49m\u001b[43m,\u001b[49m\n\u001b[1;32m    774\u001b[0m \u001b[43m    \u001b[49m\u001b[43mnrows\u001b[49m\u001b[38;5;241;43m=\u001b[39;49m\u001b[43mnrows\u001b[49m\u001b[43m,\u001b[49m\n\u001b[1;32m    775\u001b[0m \u001b[43m    \u001b[49m\u001b[43mstorage_options\u001b[49m\u001b[38;5;241;43m=\u001b[39;49m\u001b[43mstorage_options\u001b[49m\u001b[43m,\u001b[49m\n\u001b[1;32m    776\u001b[0m \u001b[43m    \u001b[49m\u001b[43mencoding_errors\u001b[49m\u001b[38;5;241;43m=\u001b[39;49m\u001b[43mencoding_errors\u001b[49m\u001b[43m,\u001b[49m\n\u001b[1;32m    777\u001b[0m \u001b[43m    \u001b[49m\u001b[43mdtype_backend\u001b[49m\u001b[38;5;241;43m=\u001b[39;49m\u001b[43mdtype_backend\u001b[49m\u001b[43m,\u001b[49m\n\u001b[1;32m    778\u001b[0m \u001b[43m    \u001b[49m\u001b[43mengine\u001b[49m\u001b[38;5;241;43m=\u001b[39;49m\u001b[43mengine\u001b[49m\u001b[43m,\u001b[49m\n\u001b[1;32m    779\u001b[0m \u001b[43m\u001b[49m\u001b[43m)\u001b[49m\n\u001b[1;32m    781\u001b[0m \u001b[38;5;28;01mif\u001b[39;00m chunksize:\n\u001b[1;32m    782\u001b[0m     \u001b[38;5;28;01mreturn\u001b[39;00m json_reader\n",
      "File \u001b[0;32m/opt/miniconda3/lib/python3.9/site-packages/pandas/io/json/_json.py:861\u001b[0m, in \u001b[0;36mJsonReader.__init__\u001b[0;34m(self, filepath_or_buffer, orient, typ, dtype, convert_axes, convert_dates, keep_default_dates, precise_float, date_unit, encoding, lines, chunksize, compression, nrows, storage_options, encoding_errors, dtype_backend, engine)\u001b[0m\n\u001b[1;32m    859\u001b[0m     \u001b[38;5;28mself\u001b[39m\u001b[38;5;241m.\u001b[39mdata \u001b[38;5;241m=\u001b[39m filepath_or_buffer\n\u001b[1;32m    860\u001b[0m \u001b[38;5;28;01melif\u001b[39;00m \u001b[38;5;28mself\u001b[39m\u001b[38;5;241m.\u001b[39mengine \u001b[38;5;241m==\u001b[39m \u001b[38;5;124m\"\u001b[39m\u001b[38;5;124mujson\u001b[39m\u001b[38;5;124m\"\u001b[39m:\n\u001b[0;32m--> 861\u001b[0m     data \u001b[38;5;241m=\u001b[39m \u001b[38;5;28;43mself\u001b[39;49m\u001b[38;5;241;43m.\u001b[39;49m\u001b[43m_get_data_from_filepath\u001b[49m\u001b[43m(\u001b[49m\u001b[43mfilepath_or_buffer\u001b[49m\u001b[43m)\u001b[49m\n\u001b[1;32m    862\u001b[0m     \u001b[38;5;28mself\u001b[39m\u001b[38;5;241m.\u001b[39mdata \u001b[38;5;241m=\u001b[39m \u001b[38;5;28mself\u001b[39m\u001b[38;5;241m.\u001b[39m_preprocess_data(data)\n",
      "File \u001b[0;32m/opt/miniconda3/lib/python3.9/site-packages/pandas/io/json/_json.py:917\u001b[0m, in \u001b[0;36mJsonReader._get_data_from_filepath\u001b[0;34m(self, filepath_or_buffer)\u001b[0m\n\u001b[1;32m    909\u001b[0m     filepath_or_buffer \u001b[38;5;241m=\u001b[39m \u001b[38;5;28mself\u001b[39m\u001b[38;5;241m.\u001b[39mhandles\u001b[38;5;241m.\u001b[39mhandle\n\u001b[1;32m    910\u001b[0m \u001b[38;5;28;01melif\u001b[39;00m (\n\u001b[1;32m    911\u001b[0m     \u001b[38;5;28misinstance\u001b[39m(filepath_or_buffer, \u001b[38;5;28mstr\u001b[39m)\n\u001b[1;32m    912\u001b[0m     \u001b[38;5;129;01mand\u001b[39;00m filepath_or_buffer\u001b[38;5;241m.\u001b[39mlower()\u001b[38;5;241m.\u001b[39mendswith(\n\u001b[0;32m   (...)\u001b[0m\n\u001b[1;32m    915\u001b[0m     \u001b[38;5;129;01mand\u001b[39;00m \u001b[38;5;129;01mnot\u001b[39;00m file_exists(filepath_or_buffer)\n\u001b[1;32m    916\u001b[0m ):\n\u001b[0;32m--> 917\u001b[0m     \u001b[38;5;28;01mraise\u001b[39;00m \u001b[38;5;167;01mFileNotFoundError\u001b[39;00m(\u001b[38;5;124mf\u001b[39m\u001b[38;5;124m\"\u001b[39m\u001b[38;5;124mFile \u001b[39m\u001b[38;5;132;01m{\u001b[39;00mfilepath_or_buffer\u001b[38;5;132;01m}\u001b[39;00m\u001b[38;5;124m does not exist\u001b[39m\u001b[38;5;124m\"\u001b[39m)\n\u001b[1;32m    919\u001b[0m \u001b[38;5;28;01mreturn\u001b[39;00m filepath_or_buffer\n",
      "\u001b[0;31mFileNotFoundError\u001b[0m: File train_data.json does not exist"
     ]
    }
   ],
   "source": [
    "import pandas as pd\n",
    "\n",
    "train_data = pd.read_json(\"train_data.json\")\n"
   ]
  },
  {
   "cell_type": "code",
   "execution_count": 5,
   "id": "e1b223ee",
   "metadata": {},
   "outputs": [],
   "source": [
    "#import logging\n",
    "\n",
    "from simpletransformers.question_answering import QuestionAnsweringModel, QuestionAnsweringArgs"
   ]
  },
  {
   "cell_type": "code",
   "execution_count": 6,
   "id": "47531214",
   "metadata": {},
   "outputs": [],
   "source": [
    "#from transformers import AutoTokenizer, AutoModelForQuestionAnswering\n",
    "\n",
    "#tokenizer = AutoTokenizer.from_pretrained(\"distilbert-base-uncased-distilled-squad\")\n",
    "\n",
    "#model = AutoModelForQuestionAnswering.from_pretrained(\"distilbert-base-uncased-distilled-squad\")"
   ]
  },
  {
   "cell_type": "code",
   "execution_count": 7,
   "id": "96d272bb",
   "metadata": {},
   "outputs": [],
   "source": [
    "model_type = \"distilbert\"\n",
    "model_name = \"distilbert-base-uncased-distilled-squad\""
   ]
  },
  {
   "cell_type": "code",
   "execution_count": 8,
   "id": "54f40ced",
   "metadata": {},
   "outputs": [],
   "source": [
    "# Configure the model \n",
    "model_args = QuestionAnsweringArgs()\n",
    "model_args.train_batch_size = 16\n",
    "model_args.evaluate_during_training = True\n",
    "model_args.n_best_size=3\n",
    "model_args.num_train_epochs=30"
   ]
  },
  {
   "cell_type": "code",
   "execution_count": 9,
   "id": "f862eb06",
   "metadata": {},
   "outputs": [],
   "source": [
    "### Advanced Methodology\n",
    "train_args = {\n",
    "    \"reprocess_input_data\": True,\n",
    "    \"overwrite_output_dir\": True,\n",
    "    \"use_cached_eval_features\": True,\n",
    "    \"output_dir\": f\"outputs/{model_type}\",\n",
    "    \"best_model_dir\": f\"outputs/{model_type}/best_model\",\n",
    "    \"evaluate_during_training\": True,\n",
    "    \"max_seq_length\": 128,\n",
    "    \"num_train_epochs\": 30,\n",
    "    \"evaluate_during_training_steps\": 1000,\n",
    "    \"wandb_project\": \"Question Answer Application\",\n",
    "    \"wandb_kwargs\": {\"name\": model_name},\n",
    "    \"save_model_every_epoch\": False,\n",
    "    \"save_eval_checkpoints\": False,\n",
    "    \"n_best_size\":3,\n",
    "    # \"use_early_stopping\": True,\n",
    "    # \"early_stopping_metric\": \"mcc\",\n",
    "    # \"n_gpu\": 2,\n",
    "    # \"manual_seed\": 4,\n",
    "    # \"use_multiprocessing\": False,\n",
    "    \"train_batch_size\": 128,\n",
    "    \"eval_batch_size\": 64,\n",
    "    # \"config\": {\n",
    "    #     \"output_hidden_states\": True\n",
    "    # }\n",
    "}"
   ]
  },
  {
   "cell_type": "code",
   "execution_count": 10,
   "id": "881c4577",
   "metadata": {},
   "outputs": [],
   "source": [
    "model = QuestionAnsweringModel(\n",
    "    model_type,model_name, args=train_args, use_cuda=False\n",
    ")"
   ]
  },
  {
   "cell_type": "code",
   "execution_count": 11,
   "id": "e6bf6228",
   "metadata": {},
   "outputs": [],
   "source": [
    "!rm -rf outputs"
   ]
  },
  {
   "cell_type": "code",
   "execution_count": 12,
   "id": "101bef6a",
   "metadata": {},
   "outputs": [
    {
     "name": "stderr",
     "output_type": "stream",
     "text": [
      "convert squad examples to features: 100%|██████| 39/39 [00:00<00:00, 600.96it/s]\n",
      "add example index and unique id: 100%|██████| 39/39 [00:00<00:00, 646552.79it/s]\n"
     ]
    },
    {
     "data": {
      "application/vnd.jupyter.widget-view+json": {
       "model_id": "1f3626b2149b452cb5e3eddfd155f38b",
       "version_major": 2,
       "version_minor": 0
      },
      "text/plain": [
       "Epoch:   0%|          | 0/30 [00:00<?, ?it/s]"
      ]
     },
     "metadata": {},
     "output_type": "display_data"
    },
    {
     "name": "stderr",
     "output_type": "stream",
     "text": [
      "\u001b[34m\u001b[1mwandb\u001b[0m: Currently logged in as: \u001b[33mdanielafajardo\u001b[0m. Use \u001b[1m`wandb login --relogin`\u001b[0m to force relogin\n"
     ]
    },
    {
     "data": {
      "application/vnd.jupyter.widget-view+json": {
       "model_id": "18ad85c447c2496fa3a6c9774b1a2da0",
       "version_major": 2,
       "version_minor": 0
      },
      "text/plain": [
       "VBox(children=(Label(value='Waiting for wandb.init()...\\r'), FloatProgress(value=0.016751777766667905, max=1.0…"
      ]
     },
     "metadata": {},
     "output_type": "display_data"
    },
    {
     "data": {
      "text/html": [
       "wandb version 0.15.3 is available!  To upgrade, please run:\n",
       " $ pip install wandb --upgrade"
      ],
      "text/plain": [
       "<IPython.core.display.HTML object>"
      ]
     },
     "metadata": {},
     "output_type": "display_data"
    },
    {
     "data": {
      "text/html": [
       "Tracking run with wandb version 0.15.2"
      ],
      "text/plain": [
       "<IPython.core.display.HTML object>"
      ]
     },
     "metadata": {},
     "output_type": "display_data"
    },
    {
     "data": {
      "text/html": [
       "Run data is saved locally in <code>/Users/danielafajardo/Desktop/wandb/run-20230530_141529-0xmauz1r</code>"
      ],
      "text/plain": [
       "<IPython.core.display.HTML object>"
      ]
     },
     "metadata": {},
     "output_type": "display_data"
    },
    {
     "data": {
      "text/html": [
       "Syncing run <strong><a href='https://wandb.ai/danielafajardo/Question%20Answer%20Application/runs/0xmauz1r' target=\"_blank\">distilbert-base-uncased-distilled-squad</a></strong> to <a href='https://wandb.ai/danielafajardo/Question%20Answer%20Application' target=\"_blank\">Weights & Biases</a> (<a href='https://wandb.me/run' target=\"_blank\">docs</a>)<br/>"
      ],
      "text/plain": [
       "<IPython.core.display.HTML object>"
      ]
     },
     "metadata": {},
     "output_type": "display_data"
    },
    {
     "data": {
      "text/html": [
       " View project at <a href='https://wandb.ai/danielafajardo/Question%20Answer%20Application' target=\"_blank\">https://wandb.ai/danielafajardo/Question%20Answer%20Application</a>"
      ],
      "text/plain": [
       "<IPython.core.display.HTML object>"
      ]
     },
     "metadata": {},
     "output_type": "display_data"
    },
    {
     "data": {
      "text/html": [
       " View run at <a href='https://wandb.ai/danielafajardo/Question%20Answer%20Application/runs/0xmauz1r' target=\"_blank\">https://wandb.ai/danielafajardo/Question%20Answer%20Application/runs/0xmauz1r</a>"
      ],
      "text/plain": [
       "<IPython.core.display.HTML object>"
      ]
     },
     "metadata": {},
     "output_type": "display_data"
    },
    {
     "data": {
      "application/vnd.jupyter.widget-view+json": {
       "model_id": "6f14068738db4cf38dd2c1ff6193992d",
       "version_major": 2,
       "version_minor": 0
      },
      "text/plain": [
       "Running Epoch 0 of 30:   0%|          | 0/1 [00:00<?, ?it/s]"
      ]
     },
     "metadata": {},
     "output_type": "display_data"
    },
    {
     "data": {
      "application/vnd.jupyter.widget-view+json": {
       "model_id": "45a406dbec6a4b5985daa610bbf8eaa7",
       "version_major": 2,
       "version_minor": 0
      },
      "text/plain": [
       "Running Evaluation:   0%|          | 0/1 [00:00<?, ?it/s]"
      ]
     },
     "metadata": {},
     "output_type": "display_data"
    },
    {
     "data": {
      "application/vnd.jupyter.widget-view+json": {
       "model_id": "92f46d28397c414eae9dc0499f8b3aa5",
       "version_major": 2,
       "version_minor": 0
      },
      "text/plain": [
       "Running Epoch 1 of 30:   0%|          | 0/1 [00:00<?, ?it/s]"
      ]
     },
     "metadata": {},
     "output_type": "display_data"
    },
    {
     "data": {
      "application/vnd.jupyter.widget-view+json": {
       "model_id": "18b5c0b9c4474a889421f021692d6983",
       "version_major": 2,
       "version_minor": 0
      },
      "text/plain": [
       "Running Evaluation:   0%|          | 0/1 [00:00<?, ?it/s]"
      ]
     },
     "metadata": {},
     "output_type": "display_data"
    },
    {
     "data": {
      "application/vnd.jupyter.widget-view+json": {
       "model_id": "2b8083aca70c46aa87542f983dc68843",
       "version_major": 2,
       "version_minor": 0
      },
      "text/plain": [
       "Running Epoch 2 of 30:   0%|          | 0/1 [00:00<?, ?it/s]"
      ]
     },
     "metadata": {},
     "output_type": "display_data"
    },
    {
     "data": {
      "application/vnd.jupyter.widget-view+json": {
       "model_id": "8e79dec4e1bf425ea3af3e1f72e3b67f",
       "version_major": 2,
       "version_minor": 0
      },
      "text/plain": [
       "Running Evaluation:   0%|          | 0/1 [00:00<?, ?it/s]"
      ]
     },
     "metadata": {},
     "output_type": "display_data"
    },
    {
     "data": {
      "application/vnd.jupyter.widget-view+json": {
       "model_id": "71070fe5ac68409b9fcd27f249a8e882",
       "version_major": 2,
       "version_minor": 0
      },
      "text/plain": [
       "Running Epoch 3 of 30:   0%|          | 0/1 [00:00<?, ?it/s]"
      ]
     },
     "metadata": {},
     "output_type": "display_data"
    },
    {
     "data": {
      "application/vnd.jupyter.widget-view+json": {
       "model_id": "89ff53ef9cfe4eb7a40a8e771067a0cf",
       "version_major": 2,
       "version_minor": 0
      },
      "text/plain": [
       "Running Evaluation:   0%|          | 0/1 [00:00<?, ?it/s]"
      ]
     },
     "metadata": {},
     "output_type": "display_data"
    },
    {
     "data": {
      "application/vnd.jupyter.widget-view+json": {
       "model_id": "1fea03ad591748e98f316d28b8963d3e",
       "version_major": 2,
       "version_minor": 0
      },
      "text/plain": [
       "Running Epoch 4 of 30:   0%|          | 0/1 [00:00<?, ?it/s]"
      ]
     },
     "metadata": {},
     "output_type": "display_data"
    },
    {
     "data": {
      "application/vnd.jupyter.widget-view+json": {
       "model_id": "3a8fd0e3ef32465cad2c26d8baa551d3",
       "version_major": 2,
       "version_minor": 0
      },
      "text/plain": [
       "Running Evaluation:   0%|          | 0/1 [00:00<?, ?it/s]"
      ]
     },
     "metadata": {},
     "output_type": "display_data"
    },
    {
     "data": {
      "application/vnd.jupyter.widget-view+json": {
       "model_id": "2459953bb6664ccdb4f4f5070b594c5a",
       "version_major": 2,
       "version_minor": 0
      },
      "text/plain": [
       "Running Epoch 5 of 30:   0%|          | 0/1 [00:00<?, ?it/s]"
      ]
     },
     "metadata": {},
     "output_type": "display_data"
    },
    {
     "data": {
      "application/vnd.jupyter.widget-view+json": {
       "model_id": "badfe2ff7e3d48d28444060b9a99eeed",
       "version_major": 2,
       "version_minor": 0
      },
      "text/plain": [
       "Running Evaluation:   0%|          | 0/1 [00:00<?, ?it/s]"
      ]
     },
     "metadata": {},
     "output_type": "display_data"
    },
    {
     "data": {
      "application/vnd.jupyter.widget-view+json": {
       "model_id": "74abde0312174065b071ae7603065308",
       "version_major": 2,
       "version_minor": 0
      },
      "text/plain": [
       "Running Epoch 6 of 30:   0%|          | 0/1 [00:00<?, ?it/s]"
      ]
     },
     "metadata": {},
     "output_type": "display_data"
    },
    {
     "data": {
      "application/vnd.jupyter.widget-view+json": {
       "model_id": "daa1fc6e72c541f1ba9c326568f22a98",
       "version_major": 2,
       "version_minor": 0
      },
      "text/plain": [
       "Running Evaluation:   0%|          | 0/1 [00:00<?, ?it/s]"
      ]
     },
     "metadata": {},
     "output_type": "display_data"
    },
    {
     "data": {
      "application/vnd.jupyter.widget-view+json": {
       "model_id": "bfadf7f2f0c14cf8933c2678f8323240",
       "version_major": 2,
       "version_minor": 0
      },
      "text/plain": [
       "Running Epoch 7 of 30:   0%|          | 0/1 [00:00<?, ?it/s]"
      ]
     },
     "metadata": {},
     "output_type": "display_data"
    },
    {
     "data": {
      "application/vnd.jupyter.widget-view+json": {
       "model_id": "4384bd9277e647c3a488d4a025a5847c",
       "version_major": 2,
       "version_minor": 0
      },
      "text/plain": [
       "Running Evaluation:   0%|          | 0/1 [00:00<?, ?it/s]"
      ]
     },
     "metadata": {},
     "output_type": "display_data"
    },
    {
     "data": {
      "application/vnd.jupyter.widget-view+json": {
       "model_id": "27c0d6a610d4424cbfb8490254fcbf88",
       "version_major": 2,
       "version_minor": 0
      },
      "text/plain": [
       "Running Epoch 8 of 30:   0%|          | 0/1 [00:00<?, ?it/s]"
      ]
     },
     "metadata": {},
     "output_type": "display_data"
    },
    {
     "data": {
      "application/vnd.jupyter.widget-view+json": {
       "model_id": "e1a1bb0b620d469f9deb9d92c56fd666",
       "version_major": 2,
       "version_minor": 0
      },
      "text/plain": [
       "Running Evaluation:   0%|          | 0/1 [00:00<?, ?it/s]"
      ]
     },
     "metadata": {},
     "output_type": "display_data"
    },
    {
     "data": {
      "application/vnd.jupyter.widget-view+json": {
       "model_id": "efd9265254f34d47a021013eec6e8434",
       "version_major": 2,
       "version_minor": 0
      },
      "text/plain": [
       "Running Epoch 9 of 30:   0%|          | 0/1 [00:00<?, ?it/s]"
      ]
     },
     "metadata": {},
     "output_type": "display_data"
    },
    {
     "data": {
      "application/vnd.jupyter.widget-view+json": {
       "model_id": "a973b4af8a4f4d30a50f958ad8e9e437",
       "version_major": 2,
       "version_minor": 0
      },
      "text/plain": [
       "Running Evaluation:   0%|          | 0/1 [00:00<?, ?it/s]"
      ]
     },
     "metadata": {},
     "output_type": "display_data"
    },
    {
     "data": {
      "application/vnd.jupyter.widget-view+json": {
       "model_id": "5454049ff3304b29b639bb362c73dac7",
       "version_major": 2,
       "version_minor": 0
      },
      "text/plain": [
       "Running Epoch 10 of 30:   0%|          | 0/1 [00:00<?, ?it/s]"
      ]
     },
     "metadata": {},
     "output_type": "display_data"
    },
    {
     "data": {
      "application/vnd.jupyter.widget-view+json": {
       "model_id": "969aeead62184508be8d0ccee289551b",
       "version_major": 2,
       "version_minor": 0
      },
      "text/plain": [
       "Running Evaluation:   0%|          | 0/1 [00:00<?, ?it/s]"
      ]
     },
     "metadata": {},
     "output_type": "display_data"
    },
    {
     "data": {
      "application/vnd.jupyter.widget-view+json": {
       "model_id": "621df0e1c02d4fcc993f339508261e33",
       "version_major": 2,
       "version_minor": 0
      },
      "text/plain": [
       "Running Epoch 11 of 30:   0%|          | 0/1 [00:00<?, ?it/s]"
      ]
     },
     "metadata": {},
     "output_type": "display_data"
    },
    {
     "data": {
      "application/vnd.jupyter.widget-view+json": {
       "model_id": "24fff0b334404427bdae5e36c6939d8a",
       "version_major": 2,
       "version_minor": 0
      },
      "text/plain": [
       "Running Evaluation:   0%|          | 0/1 [00:00<?, ?it/s]"
      ]
     },
     "metadata": {},
     "output_type": "display_data"
    },
    {
     "data": {
      "application/vnd.jupyter.widget-view+json": {
       "model_id": "e916ac8838cd4aaaa0740975b1b2ccf7",
       "version_major": 2,
       "version_minor": 0
      },
      "text/plain": [
       "Running Epoch 12 of 30:   0%|          | 0/1 [00:00<?, ?it/s]"
      ]
     },
     "metadata": {},
     "output_type": "display_data"
    },
    {
     "data": {
      "application/vnd.jupyter.widget-view+json": {
       "model_id": "517944120e024addacf0da6c3a377987",
       "version_major": 2,
       "version_minor": 0
      },
      "text/plain": [
       "Running Evaluation:   0%|          | 0/1 [00:00<?, ?it/s]"
      ]
     },
     "metadata": {},
     "output_type": "display_data"
    },
    {
     "data": {
      "application/vnd.jupyter.widget-view+json": {
       "model_id": "f6524a81c6e54ce9bbf8317d9c862c22",
       "version_major": 2,
       "version_minor": 0
      },
      "text/plain": [
       "Running Epoch 13 of 30:   0%|          | 0/1 [00:00<?, ?it/s]"
      ]
     },
     "metadata": {},
     "output_type": "display_data"
    },
    {
     "data": {
      "application/vnd.jupyter.widget-view+json": {
       "model_id": "7ac731b2236542078b0f6d62fc5fca10",
       "version_major": 2,
       "version_minor": 0
      },
      "text/plain": [
       "Running Evaluation:   0%|          | 0/1 [00:00<?, ?it/s]"
      ]
     },
     "metadata": {},
     "output_type": "display_data"
    },
    {
     "data": {
      "application/vnd.jupyter.widget-view+json": {
       "model_id": "963957274d8d46e4847bed688471376c",
       "version_major": 2,
       "version_minor": 0
      },
      "text/plain": [
       "Running Epoch 14 of 30:   0%|          | 0/1 [00:00<?, ?it/s]"
      ]
     },
     "metadata": {},
     "output_type": "display_data"
    },
    {
     "data": {
      "application/vnd.jupyter.widget-view+json": {
       "model_id": "e4f480a56a99424cba0b11f3811ebb1e",
       "version_major": 2,
       "version_minor": 0
      },
      "text/plain": [
       "Running Evaluation:   0%|          | 0/1 [00:00<?, ?it/s]"
      ]
     },
     "metadata": {},
     "output_type": "display_data"
    },
    {
     "data": {
      "application/vnd.jupyter.widget-view+json": {
       "model_id": "c643431a96e04d9993aa072d3c7981db",
       "version_major": 2,
       "version_minor": 0
      },
      "text/plain": [
       "Running Epoch 15 of 30:   0%|          | 0/1 [00:00<?, ?it/s]"
      ]
     },
     "metadata": {},
     "output_type": "display_data"
    },
    {
     "data": {
      "application/vnd.jupyter.widget-view+json": {
       "model_id": "4b2808631cd3457a962b74018cb68376",
       "version_major": 2,
       "version_minor": 0
      },
      "text/plain": [
       "Running Evaluation:   0%|          | 0/1 [00:00<?, ?it/s]"
      ]
     },
     "metadata": {},
     "output_type": "display_data"
    },
    {
     "data": {
      "application/vnd.jupyter.widget-view+json": {
       "model_id": "4fac8181b99d4ccc8a84dee8cc39b74b",
       "version_major": 2,
       "version_minor": 0
      },
      "text/plain": [
       "Running Epoch 16 of 30:   0%|          | 0/1 [00:00<?, ?it/s]"
      ]
     },
     "metadata": {},
     "output_type": "display_data"
    },
    {
     "data": {
      "application/vnd.jupyter.widget-view+json": {
       "model_id": "cfb2408c90e9447dbeb23559dc6fe3fb",
       "version_major": 2,
       "version_minor": 0
      },
      "text/plain": [
       "Running Evaluation:   0%|          | 0/1 [00:00<?, ?it/s]"
      ]
     },
     "metadata": {},
     "output_type": "display_data"
    },
    {
     "data": {
      "application/vnd.jupyter.widget-view+json": {
       "model_id": "5dda9eeb227d425c80749a8d873396d8",
       "version_major": 2,
       "version_minor": 0
      },
      "text/plain": [
       "Running Epoch 17 of 30:   0%|          | 0/1 [00:00<?, ?it/s]"
      ]
     },
     "metadata": {},
     "output_type": "display_data"
    },
    {
     "data": {
      "application/vnd.jupyter.widget-view+json": {
       "model_id": "bd88a9535aec49588b11d7990179891e",
       "version_major": 2,
       "version_minor": 0
      },
      "text/plain": [
       "Running Evaluation:   0%|          | 0/1 [00:00<?, ?it/s]"
      ]
     },
     "metadata": {},
     "output_type": "display_data"
    },
    {
     "data": {
      "application/vnd.jupyter.widget-view+json": {
       "model_id": "e7f2bf2ffa3a4d9c931f1eca316c5e14",
       "version_major": 2,
       "version_minor": 0
      },
      "text/plain": [
       "Running Epoch 18 of 30:   0%|          | 0/1 [00:00<?, ?it/s]"
      ]
     },
     "metadata": {},
     "output_type": "display_data"
    },
    {
     "data": {
      "application/vnd.jupyter.widget-view+json": {
       "model_id": "564a8f57cd6c431e9b57802852405ebf",
       "version_major": 2,
       "version_minor": 0
      },
      "text/plain": [
       "Running Evaluation:   0%|          | 0/1 [00:00<?, ?it/s]"
      ]
     },
     "metadata": {},
     "output_type": "display_data"
    },
    {
     "data": {
      "application/vnd.jupyter.widget-view+json": {
       "model_id": "45c16074b7c3482c8a0eb0bbfb88fb36",
       "version_major": 2,
       "version_minor": 0
      },
      "text/plain": [
       "Running Epoch 19 of 30:   0%|          | 0/1 [00:00<?, ?it/s]"
      ]
     },
     "metadata": {},
     "output_type": "display_data"
    },
    {
     "data": {
      "application/vnd.jupyter.widget-view+json": {
       "model_id": "399b13e2139d46fa9fb27e37883f7171",
       "version_major": 2,
       "version_minor": 0
      },
      "text/plain": [
       "Running Evaluation:   0%|          | 0/1 [00:00<?, ?it/s]"
      ]
     },
     "metadata": {},
     "output_type": "display_data"
    },
    {
     "data": {
      "application/vnd.jupyter.widget-view+json": {
       "model_id": "e326b0ae18404bc1b8c2970495366bd3",
       "version_major": 2,
       "version_minor": 0
      },
      "text/plain": [
       "Running Epoch 20 of 30:   0%|          | 0/1 [00:00<?, ?it/s]"
      ]
     },
     "metadata": {},
     "output_type": "display_data"
    },
    {
     "data": {
      "application/vnd.jupyter.widget-view+json": {
       "model_id": "784d194609d54b54985ad96cdfa72b54",
       "version_major": 2,
       "version_minor": 0
      },
      "text/plain": [
       "Running Evaluation:   0%|          | 0/1 [00:00<?, ?it/s]"
      ]
     },
     "metadata": {},
     "output_type": "display_data"
    },
    {
     "data": {
      "application/vnd.jupyter.widget-view+json": {
       "model_id": "879e07d656b9430fab9ad7d8b9d678a0",
       "version_major": 2,
       "version_minor": 0
      },
      "text/plain": [
       "Running Epoch 21 of 30:   0%|          | 0/1 [00:00<?, ?it/s]"
      ]
     },
     "metadata": {},
     "output_type": "display_data"
    },
    {
     "data": {
      "application/vnd.jupyter.widget-view+json": {
       "model_id": "100dcd2e7ee1486798e7606a6848a53a",
       "version_major": 2,
       "version_minor": 0
      },
      "text/plain": [
       "Running Evaluation:   0%|          | 0/1 [00:00<?, ?it/s]"
      ]
     },
     "metadata": {},
     "output_type": "display_data"
    },
    {
     "data": {
      "application/vnd.jupyter.widget-view+json": {
       "model_id": "cfb1aa56c2a141bea6cc85ab3056afe0",
       "version_major": 2,
       "version_minor": 0
      },
      "text/plain": [
       "Running Epoch 22 of 30:   0%|          | 0/1 [00:00<?, ?it/s]"
      ]
     },
     "metadata": {},
     "output_type": "display_data"
    },
    {
     "data": {
      "application/vnd.jupyter.widget-view+json": {
       "model_id": "3a7207efe58a430881f5345f7e6c3307",
       "version_major": 2,
       "version_minor": 0
      },
      "text/plain": [
       "Running Evaluation:   0%|          | 0/1 [00:00<?, ?it/s]"
      ]
     },
     "metadata": {},
     "output_type": "display_data"
    },
    {
     "data": {
      "application/vnd.jupyter.widget-view+json": {
       "model_id": "c3931a03d976471cba46bf580ccdabe4",
       "version_major": 2,
       "version_minor": 0
      },
      "text/plain": [
       "Running Epoch 23 of 30:   0%|          | 0/1 [00:00<?, ?it/s]"
      ]
     },
     "metadata": {},
     "output_type": "display_data"
    },
    {
     "data": {
      "application/vnd.jupyter.widget-view+json": {
       "model_id": "7d244ce468504bc685bf098b06a03271",
       "version_major": 2,
       "version_minor": 0
      },
      "text/plain": [
       "Running Evaluation:   0%|          | 0/1 [00:00<?, ?it/s]"
      ]
     },
     "metadata": {},
     "output_type": "display_data"
    },
    {
     "data": {
      "application/vnd.jupyter.widget-view+json": {
       "model_id": "89813a98d3b64a1bb754272c04b912ff",
       "version_major": 2,
       "version_minor": 0
      },
      "text/plain": [
       "Running Epoch 24 of 30:   0%|          | 0/1 [00:00<?, ?it/s]"
      ]
     },
     "metadata": {},
     "output_type": "display_data"
    },
    {
     "data": {
      "application/vnd.jupyter.widget-view+json": {
       "model_id": "6fef0defc2f149649f365374b786fc27",
       "version_major": 2,
       "version_minor": 0
      },
      "text/plain": [
       "Running Evaluation:   0%|          | 0/1 [00:00<?, ?it/s]"
      ]
     },
     "metadata": {},
     "output_type": "display_data"
    },
    {
     "data": {
      "application/vnd.jupyter.widget-view+json": {
       "model_id": "63844f56104d487e9e71d92ef3441cd6",
       "version_major": 2,
       "version_minor": 0
      },
      "text/plain": [
       "Running Epoch 25 of 30:   0%|          | 0/1 [00:00<?, ?it/s]"
      ]
     },
     "metadata": {},
     "output_type": "display_data"
    },
    {
     "data": {
      "application/vnd.jupyter.widget-view+json": {
       "model_id": "eea1f8d91fd846ca9d250710367c94c4",
       "version_major": 2,
       "version_minor": 0
      },
      "text/plain": [
       "Running Evaluation:   0%|          | 0/1 [00:00<?, ?it/s]"
      ]
     },
     "metadata": {},
     "output_type": "display_data"
    },
    {
     "data": {
      "application/vnd.jupyter.widget-view+json": {
       "model_id": "fb87e7b9b07b4551b4241ccecbafdcd5",
       "version_major": 2,
       "version_minor": 0
      },
      "text/plain": [
       "Running Epoch 26 of 30:   0%|          | 0/1 [00:00<?, ?it/s]"
      ]
     },
     "metadata": {},
     "output_type": "display_data"
    },
    {
     "data": {
      "application/vnd.jupyter.widget-view+json": {
       "model_id": "ebe092aa4ff34df8b1a8e58ae2aa3f3c",
       "version_major": 2,
       "version_minor": 0
      },
      "text/plain": [
       "Running Evaluation:   0%|          | 0/1 [00:00<?, ?it/s]"
      ]
     },
     "metadata": {},
     "output_type": "display_data"
    },
    {
     "data": {
      "application/vnd.jupyter.widget-view+json": {
       "model_id": "1b026e81f0c744fbb8186d1a27cd3972",
       "version_major": 2,
       "version_minor": 0
      },
      "text/plain": [
       "Running Epoch 27 of 30:   0%|          | 0/1 [00:00<?, ?it/s]"
      ]
     },
     "metadata": {},
     "output_type": "display_data"
    },
    {
     "data": {
      "application/vnd.jupyter.widget-view+json": {
       "model_id": "ca79438499f34739a2e089f714b1aa35",
       "version_major": 2,
       "version_minor": 0
      },
      "text/plain": [
       "Running Evaluation:   0%|          | 0/1 [00:00<?, ?it/s]"
      ]
     },
     "metadata": {},
     "output_type": "display_data"
    },
    {
     "data": {
      "application/vnd.jupyter.widget-view+json": {
       "model_id": "c031a304752c48cbae87905edb628df3",
       "version_major": 2,
       "version_minor": 0
      },
      "text/plain": [
       "Running Epoch 28 of 30:   0%|          | 0/1 [00:00<?, ?it/s]"
      ]
     },
     "metadata": {},
     "output_type": "display_data"
    },
    {
     "data": {
      "application/vnd.jupyter.widget-view+json": {
       "model_id": "375b4f2d7c0348c087ad219c32fd417a",
       "version_major": 2,
       "version_minor": 0
      },
      "text/plain": [
       "Running Evaluation:   0%|          | 0/1 [00:00<?, ?it/s]"
      ]
     },
     "metadata": {},
     "output_type": "display_data"
    },
    {
     "data": {
      "application/vnd.jupyter.widget-view+json": {
       "model_id": "5859e4c692e448079ff32b67028aaeb8",
       "version_major": 2,
       "version_minor": 0
      },
      "text/plain": [
       "Running Epoch 29 of 30:   0%|          | 0/1 [00:00<?, ?it/s]"
      ]
     },
     "metadata": {},
     "output_type": "display_data"
    },
    {
     "data": {
      "application/vnd.jupyter.widget-view+json": {
       "model_id": "3cbf7fae5ac3455d86f0796641d76cae",
       "version_major": 2,
       "version_minor": 0
      },
      "text/plain": [
       "Running Evaluation:   0%|          | 0/1 [00:00<?, ?it/s]"
      ]
     },
     "metadata": {},
     "output_type": "display_data"
    },
    {
     "data": {
      "text/plain": [
       "(30,\n",
       " {'global_step': [1,\n",
       "   2,\n",
       "   3,\n",
       "   4,\n",
       "   5,\n",
       "   6,\n",
       "   7,\n",
       "   8,\n",
       "   9,\n",
       "   10,\n",
       "   11,\n",
       "   12,\n",
       "   13,\n",
       "   14,\n",
       "   15,\n",
       "   16,\n",
       "   17,\n",
       "   18,\n",
       "   19,\n",
       "   20,\n",
       "   21,\n",
       "   22,\n",
       "   23,\n",
       "   24,\n",
       "   25,\n",
       "   26,\n",
       "   27,\n",
       "   28,\n",
       "   29,\n",
       "   30],\n",
       "  'correct': [4,\n",
       "   5,\n",
       "   6,\n",
       "   5,\n",
       "   5,\n",
       "   5,\n",
       "   6,\n",
       "   6,\n",
       "   6,\n",
       "   6,\n",
       "   5,\n",
       "   5,\n",
       "   5,\n",
       "   5,\n",
       "   5,\n",
       "   5,\n",
       "   5,\n",
       "   5,\n",
       "   5,\n",
       "   5,\n",
       "   5,\n",
       "   5,\n",
       "   5,\n",
       "   5,\n",
       "   5,\n",
       "   5,\n",
       "   5,\n",
       "   5,\n",
       "   5,\n",
       "   5],\n",
       "  'similar': [2,\n",
       "   1,\n",
       "   1,\n",
       "   3,\n",
       "   3,\n",
       "   3,\n",
       "   2,\n",
       "   2,\n",
       "   2,\n",
       "   2,\n",
       "   3,\n",
       "   3,\n",
       "   3,\n",
       "   3,\n",
       "   3,\n",
       "   3,\n",
       "   3,\n",
       "   3,\n",
       "   3,\n",
       "   3,\n",
       "   3,\n",
       "   3,\n",
       "   3,\n",
       "   3,\n",
       "   3,\n",
       "   3,\n",
       "   3,\n",
       "   3,\n",
       "   3,\n",
       "   3],\n",
       "  'incorrect': [3,\n",
       "   3,\n",
       "   2,\n",
       "   1,\n",
       "   1,\n",
       "   1,\n",
       "   1,\n",
       "   1,\n",
       "   1,\n",
       "   1,\n",
       "   1,\n",
       "   1,\n",
       "   1,\n",
       "   1,\n",
       "   1,\n",
       "   1,\n",
       "   1,\n",
       "   1,\n",
       "   1,\n",
       "   1,\n",
       "   1,\n",
       "   1,\n",
       "   1,\n",
       "   1,\n",
       "   1,\n",
       "   1,\n",
       "   1,\n",
       "   1,\n",
       "   1,\n",
       "   1],\n",
       "  'train_loss': [2.676548957824707,\n",
       "   2.7443361282348633,\n",
       "   1.0668702125549316,\n",
       "   0.9402763843536377,\n",
       "   0.5498596429824829,\n",
       "   0.4790835380554199,\n",
       "   0.3917695879936218,\n",
       "   0.2546592354774475,\n",
       "   0.18068978190422058,\n",
       "   0.17112651467323303,\n",
       "   0.12985889613628387,\n",
       "   0.08030787110328674,\n",
       "   0.09473226964473724,\n",
       "   0.063480906188488,\n",
       "   0.05527796596288681,\n",
       "   0.03527536243200302,\n",
       "   0.02446679025888443,\n",
       "   0.016639551147818565,\n",
       "   0.021278778091073036,\n",
       "   0.01859121583402157,\n",
       "   0.0068062674254179,\n",
       "   0.01510258112102747,\n",
       "   0.013903277926146984,\n",
       "   0.00623132660984993,\n",
       "   0.014964008703827858,\n",
       "   0.015440648421645164,\n",
       "   0.005558251403272152,\n",
       "   0.017724955454468727,\n",
       "   0.018595915287733078,\n",
       "   0.00432915473356843],\n",
       "  'eval_loss': [-9.165071487426758,\n",
       "   -9.048002243041992,\n",
       "   -8.824621200561523,\n",
       "   -8.629894256591797,\n",
       "   -8.460675239562988,\n",
       "   -8.274845123291016,\n",
       "   -8.1130952835083,\n",
       "   -8.185367584228516,\n",
       "   -8.401385307312012,\n",
       "   -8.639497756958008,\n",
       "   -8.848358154296875,\n",
       "   -9.052809715270996,\n",
       "   -9.206491470336914,\n",
       "   -9.355020523071289,\n",
       "   -9.48433780670166,\n",
       "   -9.58245849609375,\n",
       "   -9.664555549621582,\n",
       "   -9.724924087524414,\n",
       "   -9.75973129272461,\n",
       "   -9.77507495880127,\n",
       "   -9.786552429199219,\n",
       "   -9.792909622192383,\n",
       "   -9.797149658203125,\n",
       "   -9.800668716430664,\n",
       "   -9.802204132080078,\n",
       "   -9.803791046142578,\n",
       "   -9.803617477416992,\n",
       "   -9.802665710449219,\n",
       "   -9.800336837768555,\n",
       "   -9.799185752868652]})"
      ]
     },
     "execution_count": 12,
     "metadata": {},
     "output_type": "execute_result"
    }
   ],
   "source": [
    "# Train the model\n",
    "model.train_model(train_data, eval_data=test_data)"
   ]
  },
  {
   "cell_type": "code",
   "execution_count": 13,
   "id": "39b993fc",
   "metadata": {},
   "outputs": [
    {
     "data": {
      "application/vnd.jupyter.widget-view+json": {
       "model_id": "48f6cfac4cb840869542b1d656895986",
       "version_major": 2,
       "version_minor": 0
      },
      "text/plain": [
       "Running Evaluation:   0%|          | 0/1 [00:00<?, ?it/s]"
      ]
     },
     "metadata": {},
     "output_type": "display_data"
    }
   ],
   "source": [
    "# Evaluate the model\n",
    "result, texts = model.eval_model(test_data)"
   ]
  },
  {
   "cell_type": "code",
   "execution_count": 14,
   "id": "cf9b4889",
   "metadata": {},
   "outputs": [
    {
     "name": "stdout",
     "output_type": "stream",
     "text": [
      "{'correct': 5, 'similar': 3, 'incorrect': 1, 'eval_loss': -9.799185752868652}\n",
      "{'correct_text': {2: 'Sinchon', 3: \"Ewha College's first step toward becoming a world-class university.\", 4: '1935', 5: \"The new campus in Sinchon marked Ewha College's first step toward becoming a world-class university.\", 9: '1935'}, 'similar_text': {1: {'truth': '1935', 'predicted': 'Sinchon in 1935.', 'question': 'When did the Ewha campus move to Sinchon?'}, 7: {'truth': '1935', 'predicted': 'Sinchon in 1935.', 'question': 'Ewha campus move to Sinchon date'}, 8: {'truth': '1935', 'predicted': 'Ewha campus moved to Sinchon in 1935.', 'question': 'When did Ewha move to Sinchon?'}}, 'incorrect_text': {6: {'truth': '1935', 'predicted': \"The new campus in Sinchon marked Ewha College's first step toward becoming a world-class university.\", 'question': 'When did Ewha College make its transition to Sinchon?'}}}\n"
     ]
    }
   ],
   "source": [
    "print(result)\n",
    "print(texts)"
   ]
  },
  {
   "cell_type": "code",
   "execution_count": 18,
   "id": "62f83cdf",
   "metadata": {},
   "outputs": [],
   "source": [
    "# Make predictions with the model\n",
    "to_predict = [\n",
    "    {\n",
    "        \"context\": \"As Korea's first hospital exclusively for women, it laid the groundwork for Ewha's Colleges of Nursing and Medicine, which became the current Ewha Womans University Medical Center.\",\n",
    "        \"qas\": [\n",
    "            {\n",
    "                \"question\": \"which gender is Ewha University exclusive for?\",\n",
    "                \"id\": 0,\n",
    "            },\n",
    "            {\n",
    "                \"question\": \"ewha hospital name?\",\n",
    "                \"id\": 1,\n",
    "            },\n",
    "            {\n",
    "                \"question\": \"Hlaksdlkasjdlk?\",\n",
    "                \"id\": 2,\n",
    "            },\n",
    "        ],\n",
    "    }\n",
    "]\n",
    "     "
   ]
  },
  {
   "cell_type": "code",
   "execution_count": 19,
   "id": "2c75e39b",
   "metadata": {},
   "outputs": [
    {
     "name": "stderr",
     "output_type": "stream",
     "text": [
      "convert squad examples to features: 100%|████████| 3/3 [00:00<00:00, 350.71it/s]\n",
      "add example index and unique id: 100%|██████████| 3/3 [00:00<00:00, 3068.25it/s]\n"
     ]
    },
    {
     "data": {
      "application/vnd.jupyter.widget-view+json": {
       "model_id": "9f0b12cb07184837bbef529d699a5596",
       "version_major": 2,
       "version_minor": 0
      },
      "text/plain": [
       "Running Prediction:   0%|          | 0/1 [00:00<?, ?it/s]"
      ]
     },
     "metadata": {},
     "output_type": "display_data"
    },
    {
     "name": "stdout",
     "output_type": "stream",
     "text": [
      "[{'id': 0, 'answer': ['women', \"women, it laid the groundwork for Ewha's Colleges of Nursing and Medicine, which became the current Ewha Womans University Medical Center.\", 'women,']}, {'id': 1, 'answer': ['Ewha Womans University Medical Center.', 'Center.', 'Ewha']}, {'id': 2, 'answer': ['Ewha Womans University Medical Center.', \"it laid the groundwork for Ewha's Colleges of Nursing and Medicine, which became the current Ewha Womans University Medical Center.\", 'Center.']}]\n"
     ]
    }
   ],
   "source": [
    "answers, probabilities = model.predict(to_predict)\n",
    "\n",
    "print(answers)"
   ]
  },
  {
   "cell_type": "code",
   "execution_count": 17,
   "id": "b0b9547e",
   "metadata": {},
   "outputs": [
    {
     "name": "stdout",
     "output_type": "stream",
     "text": [
      "[{'id': 0, 'probability': [0.9991272433196019, 0.00048015325963765863, 0.00039260341657981307]}, {'id': 1, 'probability': [0.9998985892193314, 7.263466671572539e-05, 2.8776113948820327e-05]}, {'id': 2, 'probability': [0.9972068364471186, 0.0026673090559872874, 0.00012585429295580534]}]\n"
     ]
    }
   ],
   "source": [
    "print(probabilities)"
   ]
  },
  {
   "cell_type": "code",
   "execution_count": null,
   "id": "75f1b875",
   "metadata": {},
   "outputs": [],
   "source": []
  }
 ],
 "metadata": {
  "kernelspec": {
   "display_name": "Python 3 (ipykernel)",
   "language": "python",
   "name": "python3"
  },
  "language_info": {
   "codemirror_mode": {
    "name": "ipython",
    "version": 3
   },
   "file_extension": ".py",
   "mimetype": "text/x-python",
   "name": "python",
   "nbconvert_exporter": "python",
   "pygments_lexer": "ipython3",
   "version": "3.9.12"
  }
 },
 "nbformat": 4,
 "nbformat_minor": 5
}
